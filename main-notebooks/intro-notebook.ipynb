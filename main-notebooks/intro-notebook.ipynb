{
 "cells": [
  {
   "cell_type": "markdown",
   "metadata": {},
   "source": [
    "so welcome to my notebook, sole purpose of this notebook is that you will follow along what i am doing and within 2 hours given that you know the theory behind basic coding and data science, you should be able to code stuff without the use of chatgpt or any other similar ai, cause i have have seen many people code using ai but not understand the code, so ig you can still code using ai but now will understand what is happening"
   ]
  },
  {
   "cell_type": "code",
   "execution_count": 2,
   "metadata": {},
   "outputs": [
    {
     "name": "stdout",
     "output_type": "stream",
     "text": [
      "hello, welcome to my module\n"
     ]
    }
   ],
   "source": [
    "print(\"hello, welcome to my module\")"
   ]
  },
  {
   "cell_type": "markdown",
   "metadata": {},
   "source": [
    "okay so above print function is used to print stuff, pretty cool right?"
   ]
  },
  {
   "cell_type": "markdown",
   "metadata": {},
   "source": [
    "data types:\n",
    "| Category  | Types                         |\n",
    "|-----------|-------------------------------|\n",
    "| Text      | str                          |\n",
    "| Numeric   | int, float, complex          |\n",
    "| Sequence  | list, tuple, range           |\n",
    "| Mapping   | dict                         |\n",
    "| Set       | set, frozenset               |\n",
    "| Boolean   | bool                         |\n",
    "| Binary    | bytes, bytearray, memoryview |"
   ]
  },
  {
   "cell_type": "code",
   "execution_count": 4,
   "metadata": {},
   "outputs": [
    {
     "data": {
      "text/plain": [
       "int"
      ]
     },
     "execution_count": 4,
     "metadata": {},
     "output_type": "execute_result"
    }
   ],
   "source": [
    "age = 18\n",
    "type(age)"
   ]
  },
  {
   "cell_type": "code",
   "execution_count": 5,
   "metadata": {},
   "outputs": [
    {
     "data": {
      "text/plain": [
       "float"
      ]
     },
     "execution_count": 5,
     "metadata": {},
     "output_type": "execute_result"
    }
   ],
   "source": [
    "acc_age = 18.526\n",
    "type(acc_age)"
   ]
  },
  {
   "cell_type": "code",
   "execution_count": 6,
   "metadata": {},
   "outputs": [
    {
     "data": {
      "text/plain": [
       "complex"
      ]
     },
     "execution_count": 6,
     "metadata": {},
     "output_type": "execute_result"
    }
   ],
   "source": [
    "complex_age = 18 + 7j #eveything is complex tbh\n",
    "type(complex_age)\n"
   ]
  },
  {
   "cell_type": "code",
   "execution_count": 13,
   "metadata": {},
   "outputs": [
    {
     "name": "stdout",
     "output_type": "stream",
     "text": [
      "25.0\n"
     ]
    }
   ],
   "source": [
    "print(complex_age.real + complex_age.imag) #this does as you would expect it to do"
   ]
  },
  {
   "cell_type": "code",
   "execution_count": 14,
   "metadata": {},
   "outputs": [
    {
     "data": {
      "text/plain": [
       "str"
      ]
     },
     "execution_count": 14,
     "metadata": {},
     "output_type": "execute_result"
    }
   ],
   "source": [
    "random_sentence = \"hello, my name is dhairya\"\n",
    "type(random_sentence)"
   ]
  },
  {
   "cell_type": "code",
   "execution_count": null,
   "metadata": {},
   "outputs": [],
   "source": []
  }
 ],
 "metadata": {
  "kernelspec": {
   "display_name": "new_env",
   "language": "python",
   "name": "python3"
  },
  "language_info": {
   "codemirror_mode": {
    "name": "ipython",
    "version": 3
   },
   "file_extension": ".py",
   "mimetype": "text/x-python",
   "name": "python",
   "nbconvert_exporter": "python",
   "pygments_lexer": "ipython3",
   "version": "3.12.7"
  }
 },
 "nbformat": 4,
 "nbformat_minor": 2
}
